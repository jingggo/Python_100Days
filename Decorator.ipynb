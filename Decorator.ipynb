{
 "cells": [
  {
   "cell_type": "markdown",
   "metadata": {},
   "source": [
    "# Python 装饰器  \n",
    "来自[知乎](https://www.zhihu.com/question/26930016)\n"
   ]
  },
  {
   "cell_type": "markdown",
   "metadata": {},
   "source": [
    "Simple Example:"
   ]
  },
  {
   "cell_type": "code",
   "execution_count": 2,
   "metadata": {
    "collapsed": false
   },
   "outputs": [
    {
     "name": "stdout",
     "output_type": "stream",
     "text": [
      "i am foo\n"
     ]
    }
   ],
   "source": [
    "import logging\n",
    "\n",
    "def foo():\n",
    "    print('i am foo')\n",
    "    logging.info('foo is running')\n",
    "    \n",
    "foo()"
   ]
  },
  {
   "cell_type": "markdown",
   "metadata": {},
   "source": []
  },
  {
   "cell_type": "code",
   "execution_count": 5,
   "metadata": {
    "collapsed": false
   },
   "outputs": [
    {
     "name": "stderr",
     "output_type": "stream",
     "text": [
      "WARNING:root:foo is running\n"
     ]
    },
    {
     "name": "stdout",
     "output_type": "stream",
     "text": [
      "i am foo\n"
     ]
    }
   ],
   "source": [
    "import logging\n",
    "\n",
    "def use_logging(func):\n",
    "    logging.warning('%s is running' % func.__name__)\n",
    "    func()\n",
    "    \n",
    "def foo():\n",
    "    print('i am foo')\n",
    "    \n",
    "use_logging(foo)"
   ]
  },
  {
   "cell_type": "markdown",
   "metadata": {},
   "source": [
    "**简单装饰器**"
   ]
  },
  {
   "cell_type": "code",
   "execution_count": 6,
   "metadata": {
    "collapsed": false
   },
   "outputs": [
    {
     "name": "stderr",
     "output_type": "stream",
     "text": [
      "WARNING:root:foo is running\n"
     ]
    },
    {
     "name": "stdout",
     "output_type": "stream",
     "text": [
      "i am foo\n"
     ]
    }
   ],
   "source": [
    "import logging\n",
    "\n",
    "def use_logging(func):\n",
    "    \n",
    "    def wrapper(*args, **kwargs):\n",
    "        logging.warning('%s is running' % func.__name__)\n",
    "        return func(*args, **kwargs)\n",
    "    return wrapper\n",
    "\n",
    "def foo():\n",
    "    print('i am foo')\n",
    "    \n",
    "def bar():\n",
    "    print('i am bar')\n",
    "    \n",
    "foo = use_logging(foo)\n",
    "foo()"
   ]
  },
  {
   "cell_type": "code",
   "execution_count": 7,
   "metadata": {
    "collapsed": false
   },
   "outputs": [
    {
     "name": "stderr",
     "output_type": "stream",
     "text": [
      "WARNING:root:bar is running\n"
     ]
    },
    {
     "name": "stdout",
     "output_type": "stream",
     "text": [
      "i am bar\n"
     ]
    }
   ],
   "source": [
    "bar = use_logging(bar)\n",
    "bar()"
   ]
  },
  {
   "cell_type": "markdown",
   "metadata": {},
   "source": []
  },
  {
   "cell_type": "code",
   "execution_count": 8,
   "metadata": {
    "collapsed": false
   },
   "outputs": [
    {
     "name": "stderr",
     "output_type": "stream",
     "text": [
      "WARNING:root:foo is running\n"
     ]
    },
    {
     "name": "stdout",
     "output_type": "stream",
     "text": [
      "i am foo\n"
     ]
    }
   ],
   "source": [
    "@use_logging\n",
    "def foo():\n",
    "    print('i am foo')\n",
    "    \n",
    "foo()"
   ]
  },
  {
   "cell_type": "markdown",
   "metadata": {},
   "source": [
    "**带参数的装饰器**"
   ]
  },
  {
   "cell_type": "code",
   "execution_count": 9,
   "metadata": {
    "collapsed": false
   },
   "outputs": [
    {
     "name": "stderr",
     "output_type": "stream",
     "text": [
      "WARNING:root:foo is running\n"
     ]
    },
    {
     "name": "stdout",
     "output_type": "stream",
     "text": [
      "i am foo\n"
     ]
    }
   ],
   "source": [
    "import logging\n",
    "\n",
    "def use_logging(level):\n",
    "    def decorator(func):\n",
    "        def wrapper(*args, **kwargs):\n",
    "            if level == 'warn':\n",
    "                logging.warning('%s is running' % func.__name__)\n",
    "            return func(*args)\n",
    "        return wrapper\n",
    "    return decorator\n",
    "\n",
    "@use_logging(level='warn')\n",
    "def foo(name='foo'):\n",
    "    print('i am %s' % name)\n",
    "    \n",
    "foo()"
   ]
  },
  {
   "cell_type": "markdown",
   "metadata": {},
   "source": [
    "**类装饰器**  \n",
    "相比函数装饰器，类装饰器具有灵活度大，高内聚，封装性等优点。使用类装饰器还可以依靠内部的```__call__```方法，当使用@形式将装饰器附加到函数上时，就会调用此方法。"
   ]
  },
  {
   "cell_type": "code",
   "execution_count": 10,
   "metadata": {
    "collapsed": false
   },
   "outputs": [
    {
     "name": "stdout",
     "output_type": "stream",
     "text": [
      "class decorator running\n",
      "bar\n",
      "class decorator ending\n"
     ]
    }
   ],
   "source": [
    "class Foo(object):\n",
    "    def __init__(self, func):\n",
    "        self._func = func\n",
    "        \n",
    "    def __call__(self):\n",
    "        print('class decorator running')\n",
    "        self._func()\n",
    "        print('class decorator ending')\n",
    "        \n",
    "@Foo\n",
    "def bar():\n",
    "    print('bar')\n",
    "    \n",
    "bar()"
   ]
  },
  {
   "cell_type": "markdown",
   "metadata": {},
   "source": [
    "**functools.wraps**  \n",
    "使用装饰器极大地复用了代码，但是他有一个缺点就是原函数的元信息不见了，比如函数的docstring, ```__name__```,参数列表"
   ]
  },
  {
   "cell_type": "code",
   "execution_count": 16,
   "metadata": {
    "collapsed": false
   },
   "outputs": [
    {
     "name": "stdout",
     "output_type": "stream",
     "text": [
      "f was called\n",
      "110\n",
      "with_logging\n",
      "None\n"
     ]
    }
   ],
   "source": [
    "def logged(func):\n",
    "    def with_logging(*args, **kwargs):\n",
    "        print(func.__name__ + ' was called')\n",
    "        return func(*args, **kwargs)\n",
    "    return with_logging\n",
    "\n",
    "@logged\n",
    "def f(x):\n",
    "    \"\"\"does some math\"\"\"\n",
    "    return x + x * x\n",
    "\n",
    "print(f(10))\n",
    "print(f.__name__)\n",
    "print(f.__doc__)"
   ]
  },
  {
   "cell_type": "code",
   "execution_count": 17,
   "metadata": {
    "collapsed": false
   },
   "outputs": [
    {
     "name": "stdout",
     "output_type": "stream",
     "text": [
      "f was called\n",
      "110\n",
      "f\n",
      "does some math\n"
     ]
    }
   ],
   "source": [
    "from functools import wraps\n",
    "\n",
    "def logged(func):\n",
    "    @wraps(func)\n",
    "    def with_logging(*args, **kwargs):\n",
    "        print(func.__name__ + ' was called')\n",
    "        return func(*args, **kwargs)\n",
    "    return with_logging\n",
    "\n",
    "@logged\n",
    "def f(x):\n",
    "    \"\"\"does some math\"\"\"\n",
    "    return x + x * x\n",
    "\n",
    "print(f(10))\n",
    "print(f.__name__)\n",
    "print(f.__doc__)"
   ]
  },
  {
   "cell_type": "code",
   "execution_count": null,
   "metadata": {
    "collapsed": true
   },
   "outputs": [],
   "source": []
  }
 ],
 "metadata": {
  "kernelspec": {
   "display_name": "Python 3",
   "language": "python",
   "name": "python3"
  },
  "language_info": {
   "codemirror_mode": {
    "name": "ipython",
    "version": 3
   },
   "file_extension": ".py",
   "mimetype": "text/x-python",
   "name": "python",
   "nbconvert_exporter": "python",
   "pygments_lexer": "ipython3",
   "version": "3.5.4"
  }
 },
 "nbformat": 4,
 "nbformat_minor": 0
}
