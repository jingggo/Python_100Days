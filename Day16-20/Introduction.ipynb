{
 "cells": [
  {
   "cell_type": "markdown",
   "metadata": {},
   "source": [
    "# Python语言进阶\n",
    "---\n",
    "1. 数据结构和算法\n",
    "1. 函数的使用方式\n",
    "1. 面向对象相关知识\n",
    "1. 迭代器和生成器\n",
    "1. 并发编程"
   ]
  },
  {
   "cell_type": "markdown",
   "metadata": {},
   "source": [
    "## 1.数据结构和算法\n",
    "---\n",
    "算法：解决问题的方法和步骤  \n",
    "评价算法的好坏：渐近时间复杂度和渐近空间复杂度\n",
    "渐近时间复杂度的大O标记：\n",
    "  - <img src=\"http://latex.codecogs.com/gif.latex?O(c)\" /> - 常量时间复杂度 - 布隆过滤器 / 哈希存储\n",
    "  - <img src=\"http://latex.codecogs.com/gif.latex?O(log_2n)\" /> - 对数时间复杂度 - 折半查找（二分查找）\n",
    "  - <img src=\"http://latex.codecogs.com/gif.latex?O(n)\" /> - 线性时间复杂度 - 顺序查找 / 桶排序\n",
    "  - <img src=\"http://latex.codecogs.com/gif.latex?O(n*log_2n)\" /> - 对数线性时间复杂度 - 高级排序算法（归并排序、快速排序）\n",
    "  - <img src=\"http://latex.codecogs.com/gif.latex?O(n^2)\" /> - 平方时间复杂度 - 简单排序算法（选择排序、插入排序、冒泡排序）\n",
    "  - <img src=\"http://latex.codecogs.com/gif.latex?O(n^3)\" /> - 立方时间复杂度 - Floyd算法 / 矩阵乘法运算\n",
    "  - <img src=\"http://latex.codecogs.com/gif.latex?O(2^n)\" /> - 几何级数时间复杂度 - 汉诺塔\n",
    "  - <img src=\"http://latex.codecogs.com/gif.latex?O(n!)\" /> - 阶乘时间复杂度 - 旅行经销商问题 - NP"
   ]
  },
  {
   "cell_type": "markdown",
   "metadata": {},
   "source": [
    "### 排序算法（选择，冒泡和归并）和查找算法（顺序和折半）"
   ]
  },
  {
   "cell_type": "code",
   "execution_count": null,
   "metadata": {
    "collapsed": true
   },
   "outputs": [],
   "source": []
  }
 ],
 "metadata": {
  "kernelspec": {
   "display_name": "Python 3",
   "language": "python",
   "name": "python3"
  },
  "language_info": {
   "codemirror_mode": {
    "name": "ipython",
    "version": 3
   },
   "file_extension": ".py",
   "mimetype": "text/x-python",
   "name": "python",
   "nbconvert_exporter": "python",
   "pygments_lexer": "ipython3",
   "version": "3.5.4"
  }
 },
 "nbformat": 4,
 "nbformat_minor": 0
}
