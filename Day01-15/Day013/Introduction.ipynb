{
 "cells": [
  {
   "cell_type": "markdown",
   "metadata": {},
   "source": [
    "## 进程和线程\n",
    "---\n",
    "今天我们使用的计算机早已进入多CPU或多核时代，而我们使用的操作系统都是支持‘多任务’的操作系统，这使得我们可以同时运行多个程序，也可以将一个程序分解为若干个相对独立的子任务，让多个子任务并发的执行，从而缩短程序的执行时间，同时也让用户获得更好的体验。因此，在当下不管用什么编程语言进行开发，实现让程序同时执行多个任务也就是常说的“并发编程”,应该是程序员必备技能之一。为此，我们需要先讨论两个概念-**进程** and **线程**。"
   ]
  },
  {
   "cell_type": "markdown",
   "metadata": {},
   "source": [
    "下面是对使用多线程和不使用的比较："
   ]
  },
  {
   "cell_type": "code",
   "execution_count": 4,
   "metadata": {
    "collapsed": false,
    "scrolled": false
   },
   "outputs": [
    {
     "name": "stdout",
     "output_type": "stream",
     "text": [
      "********************单线程********************\n",
      "开始下载Python从入门到精通.pdf...\n",
      "Python从入门到精通.pdf下载完成！耗时5秒\n",
      "开始下载Ugly Darking.mp4...\n",
      "Ugly Darking.mp4下载完成！耗时5秒\n",
      "总共耗费了10秒。\n",
      "********************多线程********************\n",
      "总共耗费了0秒。\n"
     ]
    }
   ],
   "source": [
    "\"\"\"\n",
    "\n",
    "@Author:jyang\n",
    "@Date:5/20/2019\n",
    "\"\"\"\n",
    "\n",
    "from random import randint\n",
    "from time import time, sleep\n",
    "from multiprocessing import Process\n",
    "\n",
    "def download_task(filename):\n",
    "    print('开始下载%s...' % filename)\n",
    "    time_to_download = 5 #randint(5,10)\n",
    "    sleep(time_to_download)\n",
    "    print('%s下载完成！耗时%d秒' % (filename, time_to_download))\n",
    "\n",
    "\n",
    "def main():\n",
    "    start = time()\n",
    "    download_task('Python从入门到精通.pdf')\n",
    "    download_task('Ugly Darking.mp4')\n",
    "    end = time()\n",
    "    print('总共耗费了%d秒。' % (end-start) )\n",
    "\n",
    "\n",
    "def main_mulprocess():\n",
    "    start = time()\n",
    "    p1 = Process(target=download_task, args=('Python从入门到精通.pd', ))\n",
    "    p2 = Process(target=download_task, args=('Ugly Darking.mp4', ) )\n",
    "    p1.start()\n",
    "    p2.start()\n",
    "    p1.join()\n",
    "    p2.join()\n",
    "    end = time()\n",
    "    print('总共耗费了%d秒。' % (end - start) )\n",
    "\n",
    "\n",
    "if __name__ == '__main__':\n",
    "    print('*' * 20 + '单线程' + '*' * 20)\n",
    "    main()\n",
    "    print('*' * 20 + '多线程' + '*' * 20)\n",
    "    main_mulprocess()\n",
    "          "
   ]
  },
  {
   "cell_type": "markdown",
   "metadata": {},
   "source": []
  },
  {
   "cell_type": "code",
   "execution_count": 6,
   "metadata": {
    "collapsed": false
   },
   "outputs": [
    {
     "name": "stdout",
     "output_type": "stream",
     "text": [
      "总共耗费了0.11秒.\n"
     ]
    }
   ],
   "source": [
    "from multiprocessing import Process\n",
    "from os import getpid\n",
    "from random import randint\n",
    "from time import time, sleep\n",
    "\n",
    "\n",
    "def download_task(filename):\n",
    "    print('启动下载进程，进程号[%d].' % getpid())\n",
    "    print('开始下载%s...' % filename)\n",
    "    time_to_download = randint(5, 10)\n",
    "    sleep(time_to_download)\n",
    "    print('%s下载完成! 耗费了%d秒' % (filename, time_to_download))\n",
    "\n",
    "\n",
    "def main():\n",
    "    start = time()\n",
    "    p1 = Process(target=download_task, args=('Python从入门到精通.pdf', ))\n",
    "    p1.start()\n",
    "    p2 = Process(target=download_task, args=('Ugly Duckling.avi', ))\n",
    "    p2.start()\n",
    "    p1.join()\n",
    "    p2.join()\n",
    "    end = time()\n",
    "    print('总共耗费了%.2f秒.' % (end - start))\n",
    "\n",
    "\n",
    "if __name__ == '__main__':\n",
    "    main()"
   ]
  },
  {
   "cell_type": "markdown",
   "metadata": {},
   "source": [
    "我们也可以使用subprocess模块中的类和函数来创建和启动子进程，然后通过管道来和子进程通信，这些内容我们不在此进行讲解，有兴趣的读者可以自己了解这些知识。接下来我们将重点放在如何实"
   ]
  },
  {
   "cell_type": "code",
   "execution_count": null,
   "metadata": {
    "collapsed": true
   },
   "outputs": [],
   "source": []
  }
 ],
 "metadata": {
  "kernelspec": {
   "display_name": "Python 3",
   "language": "python",
   "name": "python3"
  },
  "language_info": {
   "codemirror_mode": {
    "name": "ipython",
    "version": 3
   },
   "file_extension": ".py",
   "mimetype": "text/x-python",
   "name": "python",
   "nbconvert_exporter": "python",
   "pygments_lexer": "ipython3",
   "version": "3.5.0"
  }
 },
 "nbformat": 4,
 "nbformat_minor": 0
}
