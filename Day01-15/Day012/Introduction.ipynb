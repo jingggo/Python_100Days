{
 "cells": [
  {
   "cell_type": "markdown",
   "metadata": {},
   "source": [
    "## 使用正则表达式\n",
    "---\n",
    "### 正则表达相关知识\n",
    "在编写处理字符串的程序或网页时，经常会有查找符合某些复杂规则的字符串的需要，正则表达式就是用于描述这些规则的工具，换句话说正则表达式是一种工具，它定义了字符串的匹配模式（如何检查一个字符串是否有跟某种模式匹配的部分或者从一个字符串中将与模式匹配的部分提取出来或者替换掉）。  \n",
    "[30分钟快速教程](https://deerchao.net/tutorials/regex/regex.htm)  \n",
    "[正则表达式测试网站](https://regex101.com/)"
   ]
  },
  {
   "cell_type": "markdown",
   "metadata": {},
   "source": [
    "### Example1\n",
    "About how to use re module\n",
    "ex:\n",
    "```\n",
    "import re\n",
    "s = '123456'\n",
    "m = re.match(r'\\d*', s)\n",
    "```"
   ]
  },
  {
   "cell_type": "code",
   "execution_count": null,
   "metadata": {
    "collapsed": true
   },
   "outputs": [],
   "source": [
    "import re\n",
    "\n",
    "def main():\n",
    "    username = input('Please input your name: ')\n",
    "    qq = input('Please input your qq number:')\n",
    "\n",
    "    # match 函数的第一个参数是正则表达式字符串或正则表达式对象\n",
    "    # 第二个参数是要跟正则表达式做匹配的字符串对象\n",
    "    m1 = re.match(r'^[0-9a-zA-Z_]{6,20}$', username)\n",
    "    if not m1:\n",
    "        print('请输入有效的用户名：')\n",
    "\n",
    "    m2 = re.match(r'^[1-9][0-9]{4,11}$', qq)\n",
    "    if not m2:\n",
    "        print('请输入有效的QQ号：')\n",
    "\n",
    "    if m1 and m2:\n",
    "        print('你输入的信息是有效的')\n",
    "\n",
    "\n",
    "if __name__ == '__main__':\n",
    "    main()"
   ]
  },
  {
   "cell_type": "markdown",
   "metadata": {},
   "source": [
    "### Example2 ( re.compile(r'(?<=\\D)1[34578]\\d{9}(?=\\D)') )\n",
    "```\n",
    "mlist = re.findall(pattern, sentence)\n",
    "pattern.finditer(sentence)\n",
    "pattern.search(sentence)\n",
    "```"
   ]
  },
  {
   "cell_type": "code",
   "execution_count": null,
   "metadata": {
    "collapsed": true
   },
   "outputs": [],
   "source": [
    "import re\n",
    "\n",
    "\n",
    "def main():\n",
    "    # 创建正则表达式对象 使用了前瞻和回顾来保证手机号前后不应该出现的数字\n",
    "    pattern = re.compile(r'(?<=\\D)1[35874]\\d{9}(?=\\D)')\n",
    "    sentence = '''\n",
    "    重要的事情说8130123456789遍，我的手机号是13512346789这个靓号，\n",
    "    不是15600998765，也是110或119，王大锤的手机号才是15600998765。\n",
    "    '''\n",
    "    mylist = re.findall(pattern, sentence)\n",
    "    print(mylist)\n",
    "\n",
    "    print('-'*10 + '华丽的分割线' + '-'*10)\n",
    "    for temp in pattern.finditer(sentence):\n",
    "        print(temp.group())\n",
    "    print('-' * 10 + '华丽的分割线' + '-' * 10)\n",
    "\n",
    "    m = pattern.search(sentence)\n",
    "    while m:\n",
    "        print(m.group())\n",
    "        m = pattern.search(sentence, m.end())\n",
    "\n",
    "\n",
    "if __name__ == '__main__':\n",
    "    main()"
   ]
  },
  {
   "cell_type": "markdown",
   "metadata": {},
   "source": [
    "### Example3 ( re.sub(pattern,  repl, str, count, flags) )\n",
    "例子3：替换字符串中的不良内容"
   ]
  },
  {
   "cell_type": "code",
   "execution_count": null,
   "metadata": {
    "collapsed": true
   },
   "outputs": [],
   "source": [
    "import re\n",
    "\n",
    "\n",
    "def main():\n",
    "    sentence = '你丫是傻叉吗? 我操你大爷的. Fuck you.'\n",
    "    purified = re.sub('[操肏艹]|fuck|shit|傻[比屄逼叉缺吊屌]|煞笔',\n",
    "                      '*', sentence, flags=re.IGNORECASE)\n",
    "    print(purified)  # 你丫是*吗? 我*你大爷的. * you.\n",
    "\n",
    "\n",
    "if __name__ == '__main__':\n",
    "    main()"
   ]
  },
  {
   "cell_type": "markdown",
   "metadata": {},
   "source": [
    "### Example4 ( re.split(pattern, str) )\n",
    "例子4：拆分长字符串"
   ]
  },
  {
   "cell_type": "code",
   "execution_count": null,
   "metadata": {
    "collapsed": true
   },
   "outputs": [],
   "source": [
    "import re\n",
    "\n",
    "\n",
    "def main():\n",
    "    poem = '床前明月光，疑是地上霜。举头望明月，低头思故乡。'\n",
    "    sentences = re.split(r'[，。]', poem)\n",
    "    while '' in sentences:\n",
    "        sentences.remove('')\n",
    "    print(sentences)\n",
    "\n",
    "\n",
    "if __name__ == '__main__':\n",
    "    main()"
   ]
  }
 ],
 "metadata": {
  "kernelspec": {
   "display_name": "Python 3",
   "language": "python",
   "name": "python3"
  },
  "language_info": {
   "codemirror_mode": {
    "name": "ipython",
    "version": 3
   },
   "file_extension": ".py",
   "mimetype": "text/x-python",
   "name": "python",
   "nbconvert_exporter": "python",
   "pygments_lexer": "ipython3",
   "version": "3.5.0"
  }
 },
 "nbformat": 4,
 "nbformat_minor": 0
}
