{
 "cells": [
  {
   "cell_type": "markdown",
   "metadata": {},
   "source": [
    "### 文件和异常\n",
    "---\n",
    "在实际开发中，常常需要对程序中的数据进行持久化操作，而现实数据持久化最简单的方式就是将数据保存在文件中。"
   ]
  },
  {
   "cell_type": "code",
   "execution_count": null,
   "metadata": {
    "collapsed": true
   },
   "outputs": [],
   "source": [
    "def main():\n",
    "    f = open('致橡树.txt', 'r', encoding='utf-8')\n",
    "    print(f.read())\n",
    "    f.close()\n",
    "\n",
    "\n",
    "if __name__ == '__main__':\n",
    "    main()"
   ]
  },
  {
   "cell_type": "markdown",
   "metadata": {},
   "source": [
    "#### 捕获异常"
   ]
  },
  {
   "cell_type": "code",
   "execution_count": 1,
   "metadata": {
    "collapsed": false
   },
   "outputs": [
    {
     "name": "stdout",
     "output_type": "stream",
     "text": [
      "无法打开指定的文件！\n"
     ]
    }
   ],
   "source": [
    "def main():\n",
    "    f = None\n",
    "    try:\n",
    "        f = open('test.txt', 'r', encoding='utf-8')\n",
    "        print(f.read)\n",
    "    except FileNotFoundError:\n",
    "        print('无法打开指定的文件！')\n",
    "    except LookupError:\n",
    "        print('指定了未知的编码！')\n",
    "    except UnicodeDecodeError:\n",
    "        print('读取文件时解码错误！')\n",
    "    finally:\n",
    "        if f:\n",
    "            f.close()\n",
    "            \n",
    "if __name__ == '__main__':\n",
    "    main()"
   ]
  },
  {
   "cell_type": "markdown",
   "metadata": {},
   "source": [
    "#### 使用with open() as f"
   ]
  },
  {
   "cell_type": "code",
   "execution_count": 3,
   "metadata": {
    "collapsed": false
   },
   "outputs": [
    {
     "name": "stdout",
     "output_type": "stream",
     "text": [
      "无法打开指定的文件！\n"
     ]
    }
   ],
   "source": [
    "def main():\n",
    "    try:\n",
    "        with open('test.txt', 'r', encoding='utf-8') as f:\n",
    "            print(f.read())\n",
    "    except FileNotFoundError:\n",
    "        print('无法打开指定的文件！')\n",
    "    except LookupError:\n",
    "        print('指定了未知的编码！')\n",
    "    except UnicodeDecodeError:\n",
    "        print('读取文件时解码错误！')\n",
    "        \n",
    "if __name__ == '__main__':\n",
    "    main()"
   ]
  },
  {
   "cell_type": "code",
   "execution_count": null,
   "metadata": {
    "collapsed": false
   },
   "outputs": [],
   "source": [
    "\"\"\"\n",
    "\n",
    "@Author:jyang\n",
    "@Date:5/17/2019\n",
    "\"\"\"\n",
    "\n",
    "import time\n",
    "\n",
    "\n",
    "def main():\n",
    "    with open('test.txt', 'r', encoding='utf-8') as f:\n",
    "        print(f.read())\n",
    "\n",
    "    with open('test.txt', mode='r') as f:\n",
    "        for line in f:\n",
    "            print(line, end='')\n",
    "            time.sleep(0.5)\n",
    "    print()\n",
    "\n",
    "    with open('test.txt') as f:\n",
    "        lines = f.readlines()\n",
    "    print(lines)\n",
    "\n",
    "\n",
    "if __name__ == '__main__':\n",
    "    main()"
   ]
  },
  {
   "cell_type": "markdown",
   "metadata": {},
   "source": [
    "将文本信息写入文件也非常简单，在使用open函数时指定好文件名并将文件模式设置为'w'即可。注意如果要将文件内容进行追加式写入，应该将模式设置为'a'。如果要写入的文件不存在会自动创建文件而不是引发异常。假面的例子将1-9999的素数分别写入三个文件中。（1-99之间的素数保存在a.txt中，100-999之间的素数保存在b.txt中，1000-9999之间的素数保存在c.txt中）。"
   ]
  },
  {
   "cell_type": "code",
   "execution_count": null,
   "metadata": {
    "collapsed": true
   },
   "outputs": [],
   "source": [
    "\"\"\"\n",
    "\n",
    "@Author:jyang\n",
    "@Date:5/18/2019\n",
    "\"\"\"\n",
    "\n",
    "from math import sqrt\n",
    "\n",
    "\n",
    "def is_prime(n):\n",
    "    assert n>0\n",
    "    flag = True\n",
    "    for i in range(2, int(sqrt(n))+1):\n",
    "        if n%i == 0:\n",
    "            flag = not flag\n",
    "            return flag\n",
    "    return flag if n!=1 else False\n",
    "\n",
    "\n",
    "def main():\n",
    "    filenames = ('a.txt', 'b.txt', 'c.txt')\n",
    "    fs_list = []\n",
    "\n",
    "    try:\n",
    "        for filename in filenames:\n",
    "            fs_list.append(open(filename, 'w', encoding='utf-8'))\n",
    "        for n in range(1, 10000):\n",
    "            if is_prime(n):\n",
    "                if n < 100:\n",
    "                    fs_list[0].write(str(n) + '\\n')\n",
    "                elif n < 1000:\n",
    "                    fs_list[1].write(str(n) + '\\n')\n",
    "                else:\n",
    "                    fs_list[2].write(str(n) + '\\n')\n",
    "    except IOError as e:\n",
    "        print(e)\n",
    "        print('写文件时发生错误')\n",
    "    finally:\n",
    "        for f in fs_list:\n",
    "            f.close()\n",
    "    print('Done!')\n",
    "\n",
    "\n",
    "if __name__ == '__main__':\n",
    "    main()"
   ]
  },
  {
   "cell_type": "markdown",
   "metadata": {},
   "source": [
    "### 读写二进制文件\n",
    "知道了如何读写文本文件，要读写二进制文件也就很简单了，下面的代码实现了复制图片文件的功能。"
   ]
  },
  {
   "cell_type": "code",
   "execution_count": null,
   "metadata": {
    "collapsed": true
   },
   "outputs": [],
   "source": [
    "def main():\n",
    "    try:\n",
    "        with open('guido.jpg', 'rb') as fs1:\n",
    "            data = fs1.read()\n",
    "            print(type(data))       # <class 'bytes'>\n",
    "        with open('guido-copy.jpg', 'wb') as fs2:\n",
    "            fs2.write(data)\n",
    "\n",
    "    except FileNotFoundError as e:\n",
    "        print('Cannot open the file')\n",
    "    except IOError as e:\n",
    "        print('Error occurred when w/r file')\n",
    "    print('Done')\n",
    "\n",
    "\n",
    "if __name__ == '__main__':\n",
    "    main()"
   ]
  },
  {
   "cell_type": "markdown",
   "metadata": {},
   "source": [
    "### 读写JSON文件\n",
    "如果希望吧一个列表或者一个字典中的数据保存到文件中该怎么做？答案是将数据已JSON格式进行保存。JSON是“JavaScript Object Notation”的缩写，它本来是JavaScript语言中创建对象的一种字面量语法，现在已经被广泛的应用于跨平台跨语言的数据交换，原因很简单，因为JSON也是纯文本，任何系统任何编程语言处理纯文本都是没有问题的。目前JSON基本上已经取代了XML作为异构系统间交换数据的事实标准。\n",
    "事实上JSON的数据类型和Python的数据类型是很容易找到对应关系的。\n",
    "\n",
    "JSON | Python\n",
    "---|---\n",
    "object | dict\n",
    "array | list\n",
    "string | str\n",
    "number(int/rel) | int/float\n",
    "true/false | True/False\n",
    "null | None\n",
    "\n",
    "\n",
    "Python | JSON\n",
    "---|---\n",
    "dict | object\n",
    "list, tuple | array\n",
    "str | string\n",
    "int,float,int-&float-derived Enums | number\n",
    "True/False | true/false\n",
    "None | null\n",
    "\n"
   ]
  },
  {
   "cell_type": "code",
   "execution_count": null,
   "metadata": {
    "collapsed": true
   },
   "outputs": [],
   "source": [
    "import json\n",
    "\n",
    "\n",
    "def main():\n",
    "    mydict = {\n",
    "        'name': 'Phoebe',\n",
    "        'age': 18,\n",
    "        'qq': 233333,\n",
    "        'friends': ['Joe', 'Rachel'],\n",
    "        'cars': [\n",
    "            {'brand': 'BYD', 'max_speed': 180},\n",
    "            {'brand': 'Audi', 'max_speed': 280},\n",
    "            {'brand': 'Benz', 'max_speed': 320}\n",
    "        ]\n",
    "    }\n",
    "    try:\n",
    "        with open('data.json', 'w', encoding='utf-8') as f:\n",
    "            json.dump(mydict, f)\n",
    "    except IOError as e:\n",
    "        print(e)\n",
    "    print('Data is saved.')\n",
    "\n",
    "\n",
    "if __name__ == '__main__':\n",
    "    main()"
   ]
  },
  {
   "cell_type": "markdown",
   "metadata": {},
   "source": [
    "json模块主要有四个比较重要的函数，分别是：\n",
    "- dump - 将Python对象按照JSON格式，序列化到文件中\n",
    "- dumps - 将Python对象处理成JSON格式的字符串\n",
    "- load - 将文件中的JSON数据反序列化为对象\n",
    "- loads - 将字符串的内容反序列化成Python对象\n",
    "\n",
    "这里出现了两个概念，一个叫序列化，一个叫反序列化。自由的百科全书维基百科上对这两个概念是这样解释的：“序列化（serialization）在计算机科学的数据处理中，是指将数据结构或对象状态转换为可以存储或传输的形式，这样在需要的时候能够恢复到原先的状态，而且通过序列化的数据重新获取字节时，可以利用这些字节来产生原始对象的副本（拷贝）。与这个过程相反的动作，即从一系列字节中提取数据结构的操作，就是反序列化（deserialization）”。"
   ]
  },
  {
   "cell_type": "code",
   "execution_count": null,
   "metadata": {
    "collapsed": true
   },
   "outputs": [],
   "source": [
    "def main():\n",
    "    my_key = 'yourkey' # need to sign in the website, then you'll get your key\n",
    "    resp = requests.get('http://api.tianapi.com/txapi/joke/?&key=%s&num=10' % (my_key))\n",
    "    data_model = json.loads(resp.text) # 字符串反序列化为Python对象\n",
    "    newslist = data_model['newslist']\n",
    "\n",
    "    try:\n",
    "        f = open('jokes.txt', 'w+', encoding='utf-8')\n",
    "        for news in newslist:\n",
    "            title = news['title'] + '\\n'\n",
    "            content = news['content'] + '\\n'\n",
    "            f.write(title)\n",
    "            f.write(content)\n",
    "    except IOError as e:\n",
    "        print(e)\n",
    "    finally:\n",
    "        f.close()\n",
    "\n",
    "\n",
    "\n",
    "if __name__ == '__main__':\n",
    "    main()"
   ]
  }
 ],
 "metadata": {
  "kernelspec": {
   "display_name": "Python 3",
   "language": "python",
   "name": "python3"
  },
  "language_info": {
   "codemirror_mode": {
    "name": "ipython",
    "version": 3
   },
   "file_extension": ".py",
   "mimetype": "text/x-python",
   "name": "python",
   "nbconvert_exporter": "python",
   "pygments_lexer": "ipython3",
   "version": "3.5.0"
  }
 },
 "nbformat": 4,
 "nbformat_minor": 0
}
