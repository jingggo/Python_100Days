{
 "cells": [
  {
   "cell_type": "markdown",
   "metadata": {},
   "source": [
    "# 图像和办公文档处理\n",
    "---\n",
    "用程序来处理图像和办公文档经常出现在实际开发中，Python的标准库中虽然没有直接支持这些操作的模块，但我们可以通过Python生态圈的第三方模块来完成这些操作。  "
   ]
  },
  {
   "cell_type": "markdown",
   "metadata": {},
   "source": [
    "[官网手册](https://pillow.readthedocs.io/en/stable/handbook/index.html)  \n",
    "[Python图像处理库简单示例](https://www.ctolib.com/topics-515.html)\n",
    "\n",
    "Pillow中最重要的类就是Image,该类存在于同名的模块中。可以通过以下几种方式实例化。\n",
    "1. 从文件中读取图片\n",
    "1. 处理其他图片得到\n",
    "1. 直接创建一个图片  \n"
   ]
  },
  {
   "cell_type": "code",
   "execution_count": 1,
   "metadata": {
    "collapsed": false
   },
   "outputs": [
    {
     "name": "stdout",
     "output_type": "stream",
     "text": [
      "JPEG (1920, 1200) RGB\n"
     ]
    }
   ],
   "source": [
    "from PIL import Image\n",
    "\n",
    "image = Image.open('./res/BingWallpaper-2019-05-21.jpg')\n",
    "print(image.format, image.size, image.mode)\n",
    "image.show()"
   ]
  },
  {
   "cell_type": "markdown",
   "metadata": {},
   "source": [
    "![](./res/imageShow.jpg)"
   ]
  },
  {
   "cell_type": "markdown",
   "metadata": {},
   "source": [
    "format属性定义了图像的格式，如果图像不是从文件打开的，那么该属性值为None；size属性是一个tuple，表示图像的宽和高（单位为像素）；mode属性为表示图像的模式，常用的模式为：L为灰度图，RGB为真彩色，CMYK为pre-press图像。  \n",
    "如果文件不能打开，则抛出IOError异常。  \n",
    "当有一个Image对象时，可以用Image类的各个方法进行处理和操作图像，例如显示图片：\n",
    "```\n",
    "im.show()\n",
    "```\n",
    "\n",
    "ps：标准版本的show()方法不是很有效率，因为它先将图像保存为一个临时文件，然后使用xv进行显示。如果没有安装xv，该函数甚至不能工作。但是该方法非常便于debug和test。（windows中应该调用默认图片查看器打开）  \n"
   ]
  },
  {
   "cell_type": "markdown",
   "metadata": {},
   "source": [
    "## 读写图片\n",
    "Pillow库支持相当多的图片格式。直接使用Image模块中的open()函数读取图片，而不必先处理图片的格式，Pillow库自动根据文件决定格式。  \n",
    "Image模块中的save()函数可以保存图片，除非你指定文件格式，那么文件名中的扩展名用来指定文件格式。"
   ]
  },
  {
   "cell_type": "markdown",
   "metadata": {},
   "source": [
    "### 图片转成jpg格式\n",
    "关于sys.argv在[知乎](https://www.zhihu.com/question/23711222)的解释。"
   ]
  },
  {
   "cell_type": "code",
   "execution_count": null,
   "metadata": {
    "collapsed": true
   },
   "outputs": [],
   "source": [
    "from __future__ import print_function\n",
    "import os, sys\n",
    "from PIL import Image\n",
    "\n",
    "for infile in sys.argv[1:]:\n",
    "    f, e = os.path.splitext(infile)\n",
    "    outfile = f + '.jpg'\n",
    "    if infile != outfile:\n",
    "        try:\n",
    "            Image.open(infile).save(outfile)\n",
    "        except IOError:\n",
    "            print(\"cannot convert\", infile)\n",
    "            "
   ]
  },
  {
   "cell_type": "markdown",
   "metadata": {},
   "source": [
    "### 创建缩略图"
   ]
  },
  {
   "cell_type": "code",
   "execution_count": 2,
   "metadata": {
    "collapsed": true
   },
   "outputs": [],
   "source": [
    "from PIL import Image\n",
    "import os, sys\n",
    "\n",
    "infile = './res/BingWallpaper-2019-05-21.jpg'\n",
    "outfile = os.path.splitext(infile)[0] + \"thumbnail.png\"\n",
    "size = (128, 128)\n",
    "try:\n",
    "    im = Image.open(infile)\n",
    "    im.thumbnail(size)\n",
    "    im.save(outfile, 'PNG')\n",
    "except IOError:\n",
    "    print('Cannot create thumbnail for', infile)"
   ]
  },
  {
   "cell_type": "markdown",
   "metadata": {},
   "source": [
    "必须指出的是除非必须，Pillow不会解码或raster数据。当你打开一个文件，Pillow通过文件头确定文件格式，大小，mode等数据，余下数据直到需要时才处理。\n",
    "\n",
    "这意味着打开文件非常快，与文件大小和压缩格式无关。下面的程序用来快速确定图片属性："
   ]
  },
  {
   "cell_type": "markdown",
   "metadata": {},
   "source": [
    "### 确定图片属性"
   ]
  },
  {
   "cell_type": "code",
   "execution_count": null,
   "metadata": {
    "collapsed": true
   },
   "outputs": [],
   "source": [
    "from __future__ import print_function\n",
    "import sys\n",
    "from PIL import Image\n",
    "for infile in sys.argv[1:]:\n",
    "    try:\n",
    "        with Image.open(infile) as im:\n",
    "            print(infile, im.format, \"%dx%d\" % im.size, im.mode)\n",
    "    except IOError:\n",
    "        pass"
   ]
  },
  {
   "cell_type": "markdown",
   "metadata": {},
   "source": [
    "### 裁剪、粘贴、与合并图片\n",
    "Image类包含还多操作图片区域的方法。如crop()方法可以从图片中提取一个子矩形  \n",
    "\n",
    "从图片中复制子图像\n",
    "```\n",
    "box = im.copy() #直接复制图像\n",
    "box = (100, 100, 400, 400)\n",
    "region = im.crop(box)\n",
    "```\n",
    "区域由4-tuple决定，该tuple中信息为(left, upper, right, lower)。 Pillow左边系统的原点（0，0）为图片的左上角。坐标中的数字单位为像素点，所以上例中截取的图片大小为300*300像素^2。  \n",
    "\n",
    "处理子图，粘贴回原图\n",
    "```\n",
    "region = region.transpose(Image.ROTATE_180)\n",
    "im.paste(region, box)\n",
    "```\n",
    "\n",
    "将子图paste回原图时，子图的region必须和给定box的region吻合。该region不能超过原图。而原图和region的mode不需要匹配，Pillow会自动处理。  \n",
    "\n",
    "另一个例子:"
   ]
  },
  {
   "cell_type": "code",
   "execution_count": null,
   "metadata": {
    "collapsed": true
   },
   "outputs": [],
   "source": [
    "Rolling an image\n",
    "def roll(image, delta):\n",
    "    \"Roll an image sideways\"\n",
    "    image = image.copy() #复制图像\n",
    "    xsize, ysize = image.size\n",
    "    delta = delta % xsize\n",
    "    if delta == 0: return image\n",
    "    part1 = image.crop((0, 0, delta, ysize))\n",
    "    part2 = image.crop((delta, 0, xsize, ysize))\n",
    "    image.paste(part2, (0, 0, xsize-delta, ysize))\n",
    "    image.paste(part1, (xsize-delta, 0, xsize, ysize))\n",
    "    return image"
   ]
  },
  {
   "cell_type": "markdown",
   "metadata": {},
   "source": [
    "### 分离和合并通道\n",
    "```\n",
    "r, g, b = im.split()\n",
    "im = Image.merge(\"RGB\", (b, g, r))\n",
    "```\n",
    "对于单通道图片，split()返回图像本身。  \n",
    "为了处理单通道图片，必须先将图片转成RGB。\n",
    "### 几何变换\n",
    "Image类有resize()、rotate()和transpose()、transform()方法进行几何变换。\n",
    "#### 简单几何变换\n",
    "```\n",
    "out = im.resize((128, 128))\n",
    "out = im.rotate(45) # 顺时针角度表示\n",
    "```\n",
    "##### 置换图像\n",
    "```\n",
    "out = im.transpose(Image.FLIP_LEFT_RIGHT)\n",
    "out = im.transpose(Image.FLIP_TOP_BOTTOM)\n",
    "out = im.transpose(Image.ROTATE_90)\n",
    "out = im.transpose(Image.ROTATE_180)\n",
    "out = im.transpose(Image.ROTATE_270)\n",
    "```\n",
    "transpose()和象的rotate()没有性能差别。\n",
    "更通用的图像变换方法可以使用transform()."
   ]
  },
  {
   "cell_type": "markdown",
   "metadata": {
    "collapsed": true
   },
   "source": [
    "**docx 安装：**  \n",
    "打开Anaconda Promt - pip install python-docx [教程](https://blog.csdn.net/qq_41185868/article/details/80468657)  \n",
    "**PyPDF2 安装：**  \n",
    "打开Anaconda Promt - pip install PyPDF2 [教程](https://www.jianshu.com/p/e3d384e51db9)"
   ]
  },
  {
   "cell_type": "code",
   "execution_count": null,
   "metadata": {
    "collapsed": true
   },
   "outputs": [],
   "source": []
  }
 ],
 "metadata": {
  "kernelspec": {
   "display_name": "Python 3",
   "language": "python",
   "name": "python3"
  },
  "language_info": {
   "codemirror_mode": {
    "name": "ipython",
    "version": 3
   },
   "file_extension": ".py",
   "mimetype": "text/x-python",
   "name": "python",
   "nbconvert_exporter": "python",
   "pygments_lexer": "ipython3",
   "version": "3.5.0"
  }
 },
 "nbformat": 4,
 "nbformat_minor": 0
}
