{
 "cells": [
  {
   "cell_type": "markdown",
   "metadata": {},
   "source": [
    "### 面向对象进阶"
   ]
  },
  {
   "cell_type": "markdown",
   "metadata": {},
   "source": [
    "在前面的章节我们已经了解了面向对象的入门知识，知道了如何定义类， 如何创建对象以及如何给对象发送消息。"
   ]
  },
  {
   "cell_type": "markdown",
   "metadata": {},
   "source": [
    "#### @property装饰器\n",
    "如果想访问属性可以通过属性的getter（访问器）和setter（修改器）方法进行对应的操作。如果要做到这点，就可以考虑使用@property包装器来包装getter和setter方法，使得对属性的访问既安全又方便，代码如下所示。"
   ]
  },
  {
   "cell_type": "code",
   "execution_count": 4,
   "metadata": {
    "collapsed": false
   },
   "outputs": [
    {
     "name": "stdout",
     "output_type": "stream",
     "text": [
      "小熊女 is playing Pachee.\n",
      "小熊女 is playing Landlords.\n"
     ]
    }
   ],
   "source": [
    "class Person(object):\n",
    "    \n",
    "    def __init__(self, name, age):\n",
    "        self._name = name\n",
    "        self._age = age\n",
    "        \n",
    "    #getter\n",
    "    @property\n",
    "    def name(self):\n",
    "        return self._name \n",
    "    \n",
    "    @property\n",
    "    def age(self):\n",
    "        return self._age \n",
    "    \n",
    "    #setter 只有被set的属性才能修改，否则 AttributeError: can't set attribute\n",
    "    @age.setter\n",
    "    def age(self, age):\n",
    "        self._age = age\n",
    "        \n",
    "    def play(self):\n",
    "        if self._age <= 16:\n",
    "            print('%s is playing Pachee.' % self._name)\n",
    "        else:\n",
    "            print('%s is playing Landlords.' % self._name)\n",
    "            \n",
    "            \n",
    "def main():\n",
    "    person = Person('小熊女', 12)\n",
    "    person.play()\n",
    "    person.age = 22\n",
    "    person.play()\n",
    "    # person.name = '大熊' # AttributeError: can't set attribute\n",
    "    \n",
    "if __name__ == '__main__':\n",
    "    main()"
   ]
  },
  {
   "cell_type": "markdown",
   "metadata": {},
   "source": [
    "#### __slots__魔法\n",
    "Python是一门动态语言。\n",
    "通常，动态语言允许我们在程序运行时给对象绑定新的属性或方法，当然也可以对已经绑定的属性和方法进行解绑定。但是如果我们需要限定自定义类型的对象只能绑定某些属性，可以通过在类中定义__slots__变量来进行限定。需要注意的是__slots__的限定只对当前类的对象生效，对子类并不起任何作用。"
   ]
  },
  {
   "cell_type": "code",
   "execution_count": 7,
   "metadata": {
    "collapsed": false
   },
   "outputs": [
    {
     "name": "stdout",
     "output_type": "stream",
     "text": [
      "小熊女 is playing Aeroplane Chess.\n"
     ]
    }
   ],
   "source": [
    "class Person(object):\n",
    "    \n",
    "    # 限定Person对象只能绑定_name, _age, _gender属性\n",
    "    __slots__ = ('_name', '_age', '_gender')\n",
    "    \n",
    "    def __init__(self, name, age):\n",
    "        self._name = name\n",
    "        self._age = age\n",
    "        \n",
    "    #getter\n",
    "    @property\n",
    "    def name(self):\n",
    "        return self._name \n",
    "    \n",
    "    @property\n",
    "    def age(self):\n",
    "        return self._age \n",
    "    \n",
    "    #setter\n",
    "    @age.setter\n",
    "    def age(self, age):\n",
    "        self._age = age\n",
    "        \n",
    "    def play(self):\n",
    "        if self._age <= 16:\n",
    "            print('%s is playing Aeroplane Chess.' % self._name)\n",
    "        else:\n",
    "            print('%s is playing Landlords.' % self._name)\n",
    "            \n",
    "            \n",
    "def main():\n",
    "    person = Person('小熊女', 12)\n",
    "    person.play()\n",
    "    person._gender = 'W'\n",
    "    # person._is_gay = True # AttributeError: 'Person' object has no attribute '_is_gay'\n",
    "    \n",
    "if __name__ == '__main__':\n",
    "    main()"
   ]
  },
  {
   "cell_type": "markdown",
   "metadata": {},
   "source": [
    "### 静态方法和类方法\n",
    "写在类中的方法并不需要都是对象方法。"
   ]
  },
  {
   "cell_type": "markdown",
   "metadata": {},
   "source": [
    "#### 静态方法 @staticmethod"
   ]
  },
  {
   "cell_type": "code",
   "execution_count": 10,
   "metadata": {
    "collapsed": false
   },
   "outputs": [
    {
     "name": "stdout",
     "output_type": "stream",
     "text": [
      "12\n",
      "6.0\n",
      "12\n",
      "6.0\n"
     ]
    }
   ],
   "source": [
    "from math import sqrt\n",
    "\n",
    "\n",
    "class Triangle(object):\n",
    "    \n",
    "    def __init__(self, a, b, c):\n",
    "        self._a = a\n",
    "        self._b = b\n",
    "        self._c = c\n",
    "        \n",
    "    @staticmethod\n",
    "    def is_valid(a, b, c):\n",
    "        return a+b>c and a+c>b and b+c>a\n",
    "    \n",
    "    def perimeter(self):\n",
    "        return self._a + self._b + self._c\n",
    "    \n",
    "    def area(self):\n",
    "        half = self.perimeter() / 2\n",
    "        return sqrt(half * (half - self._a) *  (half - self._b) * (half - self._c))\n",
    "    \n",
    "\n",
    "def main():\n",
    "    a, b, c = 3, 4, 5\n",
    "    \n",
    "    if Triangle.is_valid(a, b, c):\n",
    "        t = Triangle(a, b, c)\n",
    "        print(t.perimeter())\n",
    "        print(t.area())\n",
    "        \n",
    "         # 也可以通过给类发消息来调用对象方法但是要传入接收消息的对象作为参数\n",
    "        print(Triangle.perimeter(t))\n",
    "        print(Triangle.area(t))\n",
    "    else:\n",
    "        print('无法构成三角形.')\n",
    "        \n",
    "if __name__=='__main__':\n",
    "    main()"
   ]
  },
  {
   "cell_type": "markdown",
   "metadata": {},
   "source": [
    "#### 类方法 @classmethod\n",
    "和静态方法比较类似，Python还可以在类中定义类方法，类方法的第一个参数约定名为cls，它代表的是当前类相关的信息的对象（类本身也是一个对象，有的地方也称之为类的元数据对象），**通过这个参数我们可以获取和类相关的信息并且可以创建出类的对象**，代码如下所示。"
   ]
  },
  {
   "cell_type": "code",
   "execution_count": 19,
   "metadata": {
    "collapsed": false
   },
   "outputs": [
    {
     "name": "stdout",
     "output_type": "stream",
     "text": [
      "13:26:25\n",
      "13:26:26\n",
      "13:26:27\n",
      "13:26:28\n"
     ]
    },
    {
     "ename": "KeyboardInterrupt",
     "evalue": "",
     "output_type": "error",
     "traceback": [
      "\u001b[1;31m---------------------------------------------------------------------------\u001b[0m",
      "\u001b[1;31mKeyboardInterrupt\u001b[0m                         Traceback (most recent call last)",
      "\u001b[1;32m<ipython-input-19-2320182cbaab>\u001b[0m in \u001b[0;36m<module>\u001b[1;34m()\u001b[0m\n\u001b[0;32m     39\u001b[0m \u001b[1;33m\u001b[0m\u001b[0m\n\u001b[0;32m     40\u001b[0m \u001b[1;32mif\u001b[0m \u001b[0m__name__\u001b[0m \u001b[1;33m==\u001b[0m \u001b[1;34m'__main__'\u001b[0m\u001b[1;33m:\u001b[0m\u001b[1;33m\u001b[0m\u001b[0m\n\u001b[1;32m---> 41\u001b[1;33m     \u001b[0mmain\u001b[0m\u001b[1;33m(\u001b[0m\u001b[1;33m)\u001b[0m\u001b[1;33m\u001b[0m\u001b[0m\n\u001b[0m",
      "\u001b[1;32m<ipython-input-19-2320182cbaab>\u001b[0m in \u001b[0;36mmain\u001b[1;34m()\u001b[0m\n\u001b[0;32m     34\u001b[0m     \u001b[1;32mwhile\u001b[0m \u001b[1;32mTrue\u001b[0m\u001b[1;33m:\u001b[0m\u001b[1;33m\u001b[0m\u001b[0m\n\u001b[0;32m     35\u001b[0m         \u001b[0mprint\u001b[0m\u001b[1;33m(\u001b[0m\u001b[0mclock\u001b[0m\u001b[1;33m.\u001b[0m\u001b[0mshow\u001b[0m\u001b[1;33m(\u001b[0m\u001b[1;33m)\u001b[0m\u001b[1;33m)\u001b[0m\u001b[1;33m\u001b[0m\u001b[0m\n\u001b[1;32m---> 36\u001b[1;33m         \u001b[0msleep\u001b[0m\u001b[1;33m(\u001b[0m\u001b[1;36m1\u001b[0m\u001b[1;33m)\u001b[0m\u001b[1;33m\u001b[0m\u001b[0m\n\u001b[0m\u001b[0;32m     37\u001b[0m         \u001b[0mclock\u001b[0m\u001b[1;33m.\u001b[0m\u001b[0mrun\u001b[0m\u001b[1;33m(\u001b[0m\u001b[1;33m)\u001b[0m\u001b[1;33m\u001b[0m\u001b[0m\n\u001b[0;32m     38\u001b[0m \u001b[1;33m\u001b[0m\u001b[0m\n",
      "\u001b[1;31mKeyboardInterrupt\u001b[0m: "
     ]
    }
   ],
   "source": [
    "from time import time, localtime, sleep\n",
    "\n",
    "\n",
    "class Clock(object):\n",
    "    \n",
    "    def __init__(self, hour=0, minute=0, second=0):\n",
    "        self._hour = hour\n",
    "        self._minute = minute\n",
    "        self._second = second\n",
    "        \n",
    "    @classmethod\n",
    "    def now(cls):\n",
    "        ctime = localtime(time())\n",
    "        return cls(ctime.tm_hour, ctime.tm_min, ctime.tm_sec)\n",
    "    \n",
    "    def run(self):\n",
    "        self._second += 1\n",
    "        if self._second == 60:\n",
    "            self._second = 0\n",
    "            self._minute += 1\n",
    "            if self._minute == 60:\n",
    "                self._minute = 0\n",
    "                self._hour += 1\n",
    "                if self._hour == 24:\n",
    "                    self._hour =0\n",
    "                    \n",
    "    def show(self):\n",
    "        return '%02d:%02d:%02d' % (self._hour, self._minute, self._second)\n",
    "    \n",
    "\n",
    "def main():\n",
    "    # 通过类方法创建对象并获取系统时间\n",
    "    clock = Clock.now()\n",
    "    while True:\n",
    "        print(clock.show())\n",
    "        sleep(1)\n",
    "        clock.run()\n",
    "        \n",
    "\n",
    "if __name__ == '__main__':\n",
    "    main()"
   ]
  },
  {
   "cell_type": "markdown",
   "metadata": {},
   "source": [
    "#### 类之间的关系(不是很懂)\n",
    "简单的说，类和类之间的关系有三种：is-a、has-a和use-a关系。\n",
    "\n",
    "is-a关系也叫继承或泛化，比如学生和人的关系、手机和电子产品的关系都属于继承关系。\n",
    "has-a关系通常称之为关联，比如部门和员工的关系，汽车和引擎的关系都属于关联关系；关联关系如果是整体和部分的关联，那么我们称之为聚合关系；如果整体进一步负责了部分的生命周期（整体和部分是不可分割的，同时同在也同时消亡），那么这种就是最强的关联关系，我们称之为合成关系。\n",
    "use-a关系通常称之为依赖，比如司机有一个驾驶的行为（方法），其中（的参数）使用到了汽车，那么司机和汽车的关系就是依赖关系。"
   ]
  },
  {
   "cell_type": "markdown",
   "metadata": {},
   "source": [
    "### 继承和多态\n",
    "刚才我们提到了，可以在已有类的基础上创建新类， 这其中的一种做法就是让一个类从另一个类那里将其属性和方法直接继承下来。从而减少重复代码的编写。\n",
    "提供继承信息的我们称之为父类，也叫超类或基类；得到继承信息的我们称之为子类，也叫派生类或衍生类。子类除了继承父类的属性和方法，还可以定义自己特有的属性和方法，所以子类比父类拥有更多的能力。在实际开发中，我们经常会用子类对象去替换掉一个父类对象，这是面向对象编程中一个常见的行为，对应的原则称之为**里式替换原则**。"
   ]
  },
  {
   "cell_type": "code",
   "execution_count": 4,
   "metadata": {
    "collapsed": false
   },
   "outputs": [
    {
     "name": "stdout",
     "output_type": "stream",
     "text": [
      "plmm who is a Junior student is studying Math.\n",
      "plmm is watching SpongeBob SquarePants.\n",
      "宋丹丹老师 is teaching 演员的自我修养.\n",
      "宋丹丹 is watching Orphan.\n"
     ]
    }
   ],
   "source": [
    "class Person(object):\n",
    "    \n",
    "    def __init__(self, name, age):\n",
    "        self._name = name\n",
    "        self._age = age\n",
    "        \n",
    "    @property\n",
    "    def name(self):\n",
    "        return self._name\n",
    "    \n",
    "    @property\n",
    "    def age(self):\n",
    "        return self._age\n",
    "    \n",
    "    @age.setter\n",
    "    def age(self, age):\n",
    "        self._age = age\n",
    "        \n",
    "    def play(self):\n",
    "        print('%s is playing.' % self._name)\n",
    "        \n",
    "    def watch_hv(self):\n",
    "        if self._age>=18:\n",
    "            print('%s is watching Orphan.' % self._name)\n",
    "        else:\n",
    "            print('%s is watching SpongeBob SquarePants.' % self._name)\n",
    "            \n",
    "            \n",
    "class Student(Person):\n",
    "    \n",
    "    def __init__(self, name, age, grade):\n",
    "        super().__init__(name, age)\n",
    "        self._grade = grade\n",
    "     \n",
    "    @property\n",
    "    def grade(self):\n",
    "        return self._grade\n",
    "    \n",
    "    @grade.setter\n",
    "    def grade(self, grade):\n",
    "        self._grade = grade\n",
    "        \n",
    "    def study(self, course):\n",
    "        print('%s who is a %s student is studying %s.' % (self._name, self._grade, course))\n",
    "        \n",
    "        \n",
    "class Teacher(Person):\n",
    "    \n",
    "    def __init__(self, name, age, title):\n",
    "        super().__init__(name, age)\n",
    "        self._title = title\n",
    "        \n",
    "    @property\n",
    "    def title(self):\n",
    "        return self._title\n",
    "    \n",
    "    @title.setter\n",
    "    def title(self, title):\n",
    "        self._title = title\n",
    "        \n",
    "    def teach(self, course):\n",
    "        print('%s%s is teaching %s.' % (self._name, self._title, course))\n",
    "        \n",
    "        \n",
    "def main():\n",
    "    stu = Student('plmm', 15, 'Junior')\n",
    "    stu.study('Math')\n",
    "    stu.watch_hv()\n",
    "    \n",
    "    t = Teacher('宋丹丹', 28, '老师')\n",
    "    t.teach('演员的自我修养')\n",
    "    t.watch_hv()\n",
    "    \n",
    "    \n",
    "if __name__ == '__main__':\n",
    "    main()"
   ]
  },
  {
   "cell_type": "markdown",
   "metadata": {},
   "source": [
    "#### 父类\n",
    "子类在继承了父类的方法后，可以对父类已有的方法给出新的实现版本，这个动作称之为方法重写(override)。通过方法重写我们可以让父类的同一个行为在子类中拥有不同的实现版本，当我们调用这个经过子类重写的方法时，不同的子类对象会表现出不同的行为，这个就是多态(poly-morphism)。"
   ]
  },
  {
   "cell_type": "markdown",
   "metadata": {},
   "source": [
    "#### 抽象类 @abstractmethod"
   ]
  },
  {
   "cell_type": "code",
   "execution_count": 5,
   "metadata": {
    "collapsed": false
   },
   "outputs": [
    {
     "name": "stdout",
     "output_type": "stream",
     "text": [
      "Dodge: 汪汪汪汪...\n",
      "Ketty: 喵喵喵喵...\n",
      "哮天犬: 汪汪汪汪...\n"
     ]
    }
   ],
   "source": [
    "from abc import ABCMeta, abstractmethod\n",
    "\n",
    "\n",
    "class Pet(object, metaclass=ABCMeta):\n",
    "    \n",
    "    def __init__(self, nickname):\n",
    "        self._nickname = nickname\n",
    "        \n",
    "    @abstractmethod\n",
    "    def make_voice(self):\n",
    "        pass\n",
    "    \n",
    "    \n",
    "class Dog(Pet):\n",
    "    \n",
    "    def make_voice(self):\n",
    "        print('%s: 汪汪汪汪...' % self._nickname)\n",
    "        \n",
    "\n",
    "class Cat(Pet):\n",
    "    \n",
    "    def make_voice(self):\n",
    "        print('%s: 喵喵喵喵...' % self._nickname)\n",
    "        \n",
    "        \n",
    "def main():\n",
    "    pets = [Dog('Dodge'), Cat('Ketty'), Dog('哮天犬')]\n",
    "    for p in pets:\n",
    "        p.make_voice()\n",
    "        \n",
    "        \n",
    "if __name__ == '__main__':\n",
    "    main()"
   ]
  },
  {
   "cell_type": "markdown",
   "metadata": {},
   "source": [
    "上面代码中，Pet类被处理成了一个抽象类。抽象类就是不能实例化的类。这种类的存在就是专门为了让别的类去继承它。Python从语法层面并没有像Java or C# 那样提供对抽象类的支持，但是我们可以通过abc 模块的ABCMeta元类和abstractmethod包装器来达到抽象类的效果。如果一个类中存在抽象方法，name这个类就无法实例化。上面的例子中，Dog and Cat 两个子类分别对Pet类中的make_voice()抽象方法进行了重写并给出了不同的实现版本。当我们在main函数中调用该方法时，这个方法就表现出了多态行为（同样的方法做了不同的事情）。"
   ]
  },
  {
   "cell_type": "code",
   "execution_count": null,
   "metadata": {
    "collapsed": true
   },
   "outputs": [],
   "source": []
  }
 ],
 "metadata": {
  "kernelspec": {
   "display_name": "Python 3",
   "language": "python",
   "name": "python3"
  },
  "language_info": {
   "codemirror_mode": {
    "name": "ipython",
    "version": 3
   },
   "file_extension": ".py",
   "mimetype": "text/x-python",
   "name": "python",
   "nbconvert_exporter": "python",
   "pygments_lexer": "ipython3",
   "version": "3.5.0"
  }
 },
 "nbformat": 4,
 "nbformat_minor": 0
}
