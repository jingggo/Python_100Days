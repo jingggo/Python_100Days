{
 "cells": [
  {
   "cell_type": "markdown",
   "metadata": {},
   "source": [
    "#### Day04 - 循环结构\n",
    "重复执行某条或某些指令\n",
    "- for in \n",
    "- while"
   ]
  },
  {
   "cell_type": "code",
   "execution_count": null,
   "metadata": {
    "collapsed": false
   },
   "outputs": [],
   "source": [
    "\"\"\"Example - for\"\"\"\n",
    "sum=0\n",
    "for x in range(1,101):\n",
    "    sum+=x\n",
    "print(sum)"
   ]
  },
  {
   "cell_type": "code",
   "execution_count": null,
   "metadata": {
    "collapsed": false
   },
   "outputs": [],
   "source": [
    "\"\"\"Example - while\"\"\"\n",
    "import random\n",
    "\n",
    "answer = random.randint(1,100)\n",
    "counter=0\n",
    "while True:\n",
    "    counter += 1\n",
    "    guess = int(input('请输入：'))\n",
    "    if guess<answer:\n",
    "        print('猜小了')\n",
    "    elif guess>answer:\n",
    "        print('猜大了')\n",
    "    else:\n",
    "        print('猜对了')\n",
    "        break\n",
    "        \n",
    "print('你总共猜了%d次' % counter)\n",
    "if counter>7:\n",
    "    print('你的智商余额明显不足')"
   ]
  }
 ],
 "metadata": {
  "kernelspec": {
   "display_name": "Python 3",
   "language": "python",
   "name": "python3"
  },
  "language_info": {
   "codemirror_mode": {
    "name": "ipython",
    "version": 3
   },
   "file_extension": ".py",
   "mimetype": "text/x-python",
   "name": "python",
   "nbconvert_exporter": "python",
   "pygments_lexer": "ipython3",
   "version": "3.5.0"
  }
 },
 "nbformat": 4,
 "nbformat_minor": 0
}
